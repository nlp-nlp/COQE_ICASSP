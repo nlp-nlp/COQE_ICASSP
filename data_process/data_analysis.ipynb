{
 "cells": [
  {
   "attachments": {},
   "cell_type": "markdown",
   "metadata": {},
   "source": [
    "# 功能：统计中文或英文样本中的五元组有多少subject和object同时为空的case,具体分为两种情况，1）按五元组个数来统计 2）按比较句的个数统计"
   ]
  },
  {
   "cell_type": "code",
   "execution_count": 55,
   "metadata": {},
   "outputs": [
    {
     "name": "stdout",
     "output_type": "stream",
     "text": [
      "total count is 2586, sub_obj_num is 70, sub_num is 186, obj_num is 499, asp_num is 479\n"
     ]
    }
   ],
   "source": [
    "file = \"/home/qtxu/Sentiment5-SPN-master/data/Camera-COQE/train.txt\"\n",
    "with open(file, 'r') as fr:\n",
    "    count = 0 # 总五元组样本数\n",
    "    sub_obj_num = 0 # 符合条件的样本数\n",
    "    sub_num = 0\n",
    "    obj_num = 0\n",
    "    asp_num = 0\n",
    "    lines = fr.readlines()\n",
    "    for line in lines:\n",
    "        if \"[[\" in line:\n",
    "            count += 1\n",
    "            sub, obj, asp, op, sent = line[1:-2].split(\";\")\n",
    "            # print(sub, obj, asp, op, sent)\n",
    "            if (len(sub) == 2 and len(obj) == 2) and len(sent) == 3:\n",
    "                sub_obj_num += 1\n",
    "            if len(sub) == 2 and len(sent) == 3:\n",
    "                sub_num += 1\n",
    "            if len(obj) == 2 and len(sent) == 3:\n",
    "                obj_num += 1\n",
    "            if len(asp) == 2 and len(sent) == 3:\n",
    "                # print(line)\n",
    "                asp_num += 1\n",
    "\n",
    "print(\"total count is {}, sub_obj_num is {}, sub_num is {}, obj_num is {}, asp_num is {}\".format(count, sub_obj_num, sub_num, obj_num,asp_num))"
   ]
  },
  {
   "attachments": {},
   "cell_type": "markdown",
   "metadata": {},
   "source": [
    "# 功能：统计英文样本中的五元组有多少subject和object同时为空的case,具体分为两种情况，1）按五元组个数来统计 2）按比较句的个数统计"
   ]
  },
  {
   "cell_type": "code",
   "execution_count": 51,
   "metadata": {},
   "outputs": [
    {
     "name": "stdout",
     "output_type": "stream",
     "text": [
      "[] [] [] [] []\n",
      "[11&&S50] [] [9&&battery] [8&&same] [0]\n",
      "[] [] [13&&flash 14&&shutter 15&&speeds] [12&&slower] [-1]\n",
      "[] [] [] [] []\n",
      "[2&&XT] [11&&300D] [6&&auto 7&&focusing] [3&&retains] [0]\n",
      "[] [] [] [] []\n",
      "[] [] [] [] []\n",
      "[] [] [] [3&&difference] [2]\n",
      "total count is 8, sub_obj_num is 1, sub_num is 1, obj_num is 2, asp_num is 1\n"
     ]
    }
   ],
   "source": [
    "file = \"/home/qtxu/Sentiment5-SPN-master/data/Camera-COQE/train2.txt\"\n",
    "with open(file, 'r') as fr:\n",
    "    count = 0 # 总五元组样本数\n",
    "    sub_obj_num = 0 # 符合条件的样本数\n",
    "    sub_num = 0\n",
    "    obj_num = 0\n",
    "    asp_num = 0\n",
    "    lines = fr.readlines()\n",
    "    for line in lines:\n",
    "        if \"[[\" in line:\n",
    "            count += 1\n",
    "            sub, obj, asp, op, sent = line[1:-2].split(\";\")\n",
    "            print(sub, obj, asp, op, sent)\n",
    "            if (len(sub) == 2 and len(obj) == 2) and len(sent) == 3:\n",
    "                sub_obj_num += 1\n",
    "            if len(sub) == 2 and len(sent) == 3:\n",
    "                sub_num += 1\n",
    "            if len(obj) == 2 and len(sent) == 3:\n",
    "                obj_num += 1\n",
    "            if len(asp) == 2 and len(sent) == 3:\n",
    "                # print(line)\n",
    "                asp_num += 1\n",
    "\n",
    "print(\"total count is {}, sub_obj_num is {}, sub_num is {}, obj_num is {}, asp_num is {}\".format(count, sub_obj_num, sub_num, obj_num,asp_num))"
   ]
  }
 ],
 "metadata": {
  "kernelspec": {
   "display_name": "qtxu_env_3.7",
   "language": "python",
   "name": "python3"
  },
  "language_info": {
   "codemirror_mode": {
    "name": "ipython",
    "version": 3
   },
   "file_extension": ".py",
   "mimetype": "text/x-python",
   "name": "python",
   "nbconvert_exporter": "python",
   "pygments_lexer": "ipython3",
   "version": "3.7.0"
  },
  "orig_nbformat": 4
 },
 "nbformat": 4,
 "nbformat_minor": 2
}
